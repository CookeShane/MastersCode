{
 "cells": [
  {
   "attachments": {},
   "cell_type": "markdown",
   "metadata": {},
   "source": [
    "# Change LabelBox Annotations"
   ]
  },
  {
   "cell_type": "code",
   "execution_count": 10,
   "metadata": {},
   "outputs": [],
   "source": [
    "import json\n",
    "import os\n",
    "from PIL import Image\n",
    "import copy"
   ]
  },
  {
   "cell_type": "code",
   "execution_count": 19,
   "metadata": {},
   "outputs": [],
   "source": [
    "new_json_file = {\n",
    "        \"info\": {},\n",
    "        \"licenses\": [],\n",
    "        \"categories\": [\n",
    "            {\n",
    "                \"id\": 1,\n",
    "                \"name\": \"Overfilled\"\n",
    "            },\n",
    "            {\n",
    "                \"id\": 2,\n",
    "                \"name\": \"NonOverfilled\"\n",
    "            }\n",
    "        ],\n",
    "        \"images\": [],\n",
    "        \"annotations\": []\n",
    "    }\n",
    "\n",
    "default_images = {\n",
    "            \"file_name\": \"Hello.jpg\",\n",
    "            \"id\": 0,\n",
    "            \"width\": 0,\n",
    "            \"height\": 0\n",
    "        }    \n",
    "\n",
    "default_annotations = {\n",
    "            \"image_id\": 0,\n",
    "            \"id\": 0,\n",
    "            \"category_id\": 1,\n",
    "            \"area\": 0,\n",
    "            \"iscrowd\": 0,\n",
    "            \"bbox\": [0, 0, 0, 0],\n",
    "            \"segmentation\": []\n",
    "        }"
   ]
  },
  {
   "cell_type": "code",
   "execution_count": 20,
   "metadata": {},
   "outputs": [],
   "source": [
    "image_path = f'./Dataset/HRI/Workings/Images/'\n",
    "f = open(f'Dataset/HRI/Workings/annotations.json')\n",
    "data = json.load(f)\n",
    "f.close()"
   ]
  },
  {
   "cell_type": "code",
   "execution_count": 21,
   "metadata": {},
   "outputs": [],
   "source": [
    "index = 0\n",
    "# Iterating through the json\n",
    "for count, a in enumerate(data):\n",
    "    # Initilise Image & Annotations Details\n",
    "    image_details = default_images\n",
    "    annotation_details = default_annotations\n",
    "\n",
    "    # Populate Image & Annotations Details\n",
    "    image_details['file_name'] = a['External ID']\n",
    "    image_details['id'] = count\n",
    "    image_details['width'] = 6016\n",
    "    image_details['height'] = 4000\n",
    "\n",
    "    for b in a['Label']['objects']:\n",
    "        if b['value'] == 'overfilled':\n",
    "            category = 1\n",
    "        else:\n",
    "            category = 2\n",
    "\n",
    "        annotation_details['image_id'] = count\n",
    "        annotation_details['id'] = index\n",
    "        annotation_details['category_id'] = category\n",
    "        annotation_details['area'] = (b['bbox']['height'] * b['bbox']['width'])\n",
    "        annotation_details['bbox'][0] = b['bbox']['left']\n",
    "        annotation_details['bbox'][1] = b['bbox']['top']\n",
    "        annotation_details['bbox'][2] = b['bbox']['width']\n",
    "        annotation_details['bbox'][3] = b['bbox']['height']\n",
    "\n",
    "        index = index + 1\n",
    "        new_json_file['annotations'].append(copy.deepcopy(annotation_details))\n",
    "\n",
    "    # Append Details into JSON\n",
    "    new_json_file['images'].append(copy.deepcopy(image_details))\n",
    "    "
   ]
  },
  {
   "cell_type": "code",
   "execution_count": 23,
   "metadata": {},
   "outputs": [],
   "source": [
    "j_file = json.dumps(new_json_file, indent=4)\n",
    "with open(f\"Dataset/Personal/Workings/fixed_annotations.json\", 'w') as outfile:\n",
    "    outfile.write(j_file)"
   ]
  },
  {
   "attachments": {},
   "cell_type": "markdown",
   "metadata": {},
   "source": [
    "***"
   ]
  },
  {
   "attachments": {},
   "cell_type": "markdown",
   "metadata": {},
   "source": [
    "### Calculate Instances per Set"
   ]
  },
  {
   "cell_type": "code",
   "execution_count": 7,
   "metadata": {},
   "outputs": [],
   "source": [
    "f = open('Dataset/Personal/Control/split_val.json')\n",
    "data = json.load(f)\n",
    "f.close()"
   ]
  },
  {
   "cell_type": "code",
   "execution_count": 8,
   "metadata": {},
   "outputs": [
    {
     "name": "stdout",
     "output_type": "stream",
     "text": [
      "Overfilled Instances: 24\n",
      "NonOverfilled Instances: 53\n"
     ]
    }
   ],
   "source": [
    "over = 0\n",
    "nonover = 0\n",
    "\n",
    "for a in data['annotations']:\n",
    "    if a['category_id'] == 1:\n",
    "        over = over + 1\n",
    "    elif a['category_id'] == 2:\n",
    "        nonover = nonover + 1\n",
    "    else:\n",
    "        id =a['id']\n",
    "        print(f'error: {id}')\n",
    "print(f'Overfilled Instances: {over}')\n",
    "print(f'NonOverfilled Instances: {nonover}')"
   ]
  }
 ],
 "metadata": {
  "kernelspec": {
   "display_name": "masters",
   "language": "python",
   "name": "python3"
  },
  "language_info": {
   "codemirror_mode": {
    "name": "ipython",
    "version": 3
   },
   "file_extension": ".py",
   "mimetype": "text/x-python",
   "name": "python",
   "nbconvert_exporter": "python",
   "pygments_lexer": "ipython3",
   "version": "3.10.8"
  },
  "orig_nbformat": 4,
  "vscode": {
   "interpreter": {
    "hash": "24d1aeea1e4d3f699033aa98f0aed530c9ef1015c9b5c3418b9321669119b1b4"
   }
  }
 },
 "nbformat": 4,
 "nbformat_minor": 2
}
